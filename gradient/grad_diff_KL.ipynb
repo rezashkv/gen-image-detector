{
  "cells": [
    {
      "cell_type": "code",
      "execution_count": 1,
      "metadata": {
        "id": "vwaVDBl3vCIU"
      },
      "outputs": [],
      "source": [
        "import requests\n",
        "import torch\n",
        "from PIL import Image\n",
        "from io import BytesIO\n",
        "import os\n",
        "from os import listdir\n",
        "import numpy as np\n",
        "import matplotlib.pyplot as plt\n",
        "import pandas as pd\n",
        "import itertools\n",
        "import statistics\n"
      ]
    },
    {
      "cell_type": "code",
      "execution_count": 2,
      "metadata": {
        "id": "yh5OFhhnkU7s"
      },
      "outputs": [],
      "source": [
        "# [ [list with gradients of original pictures], [list with denoised 1], [list with denoised 2]]\n",
        "# each picture is a list with 3 sublist (for each color)\n",
        "lst_real_x = torch.load('/content/drive/MyDrive/CMSC673/gradients/real_x_30', map_location=torch.device('cpu'))\n",
        "lst_real_y = torch.load('/content/drive/MyDrive/CMSC673/gradients/real_y_30', map_location=torch.device('cpu'))\n",
        "lst_fake_y = torch.load('/content/drive/MyDrive/CMSC673/gradients/fake_dif_y_30', map_location=torch.device('cpu'))\n",
        "lst_fake_x = torch.load('/content/drive/MyDrive/CMSC673/gradients/fake_dif_x_30', map_location=torch.device('cpu'))"
      ]
    },
    {
      "cell_type": "code",
      "execution_count": 3,
      "metadata": {
        "id": "lmDuah2E9nPt"
      },
      "outputs": [],
      "source": [
        "# changing the format to a list of float values representing gradient values\n",
        "# final result: 3 lists, one with gradients of the original pictures, second with noise1, third with noise2\n",
        "# each of the lists has 3 sublists for each color, inside each color we have a list of pictures\n",
        "def gradients(lst):\n",
        "  gradients_org = []\n",
        "  gradients_noise1 = []\n",
        "  gradients_noise2 = []\n",
        "\n",
        "  for i in range(0,3):\n",
        "    grad_col_1 = []\n",
        "    grad_col_2 = []\n",
        "    grad_col_3 = []\n",
        "\n",
        "    for sub_list in lst[i]:\n",
        "      list_1 = list(itertools.chain.from_iterable(sub_list[0]))\n",
        "      list_2 = list(itertools.chain.from_iterable(sub_list[1]))\n",
        "      list_3 = list(itertools.chain.from_iterable(sub_list[2]))\n",
        "\n",
        "      grad_col_1.append([tensor.item() for tensor in list_1])\n",
        "      grad_col_2.append([tensor.item() for tensor in list_2])\n",
        "      grad_col_3.append([tensor.item() for tensor in list_3])\n",
        "\n",
        "      gradients = [grad_col_1, grad_col_2, grad_col_3]\n",
        "\n",
        "      if i == 0:\n",
        "        gradients_org = gradients\n",
        "      elif i == 1:\n",
        "        gradients_noise1 = gradients\n",
        "      else:\n",
        "        gradients_noise2 = gradients\n",
        "\n",
        "  return gradients_org, gradients_noise1, gradients_noise2"
      ]
    },
    {
      "cell_type": "code",
      "execution_count": 4,
      "metadata": {
        "id": "nHk0gHQ3-j41"
      },
      "outputs": [],
      "source": [
        "grad_fake_x_org, grad_fake_x_noise1, grad_fake_x_noise2 = gradients(lst_fake_x)\n",
        "grad_fake_y_org, grad_fake_y_noise1, grad_fake_y_noise2 = gradients(lst_fake_y)\n",
        "grad_real_x_org, grad_real_x_noise1, grad_real_x_noise2 = gradients(lst_real_x)\n",
        "grad_real_y_org, grad_real_y_noise1, grad_real_y_noise2 = gradients(lst_real_y)"
      ]
    },
    {
      "cell_type": "markdown",
      "metadata": {
        "id": "V0ebRxZJBsgs"
      },
      "source": [
        "## Comparing histograms of the picture with the denoised version for real and fake pictures\n"
      ]
    },
    {
      "cell_type": "code",
      "execution_count": 6,
      "metadata": {
        "id": "IGWt_IZ2_cyi"
      },
      "outputs": [],
      "source": [
        "color = 1\n",
        "photo = 20\n",
        "\n",
        "real_1 = grad_real_x_org[color][photo]\n",
        "real_2 = grad_real_x_noise1[color][photo]\n",
        "real_3 = grad_real_x_noise2[color][photo]\n",
        "\n",
        "fake_1 = grad_fake_x_org[color][photo]\n",
        "fake_2 = grad_fake_x_noise1[color][photo]\n",
        "fake_3 = grad_fake_x_noise2[color][photo]"
      ]
    },
    {
      "cell_type": "code",
      "execution_count": 7,
      "metadata": {
        "id": "JG5gwsywon5u"
      },
      "outputs": [],
      "source": [
        "# It's hard to see anything when for bigger scale\n",
        "bins = [float(i) / 100 for i in range(-10, 11)]"
      ]
    },
    {
      "cell_type": "code",
      "execution_count": 8,
      "metadata": {
        "id": "Y9z3gPshoPGx",
        "colab": {
          "base_uri": "https://localhost:8080/",
          "height": 429
        },
        "outputId": "92a3664f-df5f-4142-9b5b-88ca2aee6d19"
      },
      "outputs": [
        {
          "output_type": "display_data",
          "data": {
            "text/plain": [
              "<Figure size 640x480 with 1 Axes>"
            ],
            "image/png": "[encoded data removed]"
          },
          "metadata": {}
        }
      ],
      "source": [
        "plt.hist([real_1, real_2, real_3], bins=bins)\n",
        "plt.show()"
      ]
    },
    {
      "cell_type": "code",
      "execution_count": 9,
      "metadata": {
        "id": "DCHLBrcTo6po",
        "colab": {
          "base_uri": "https://localhost:8080/",
          "height": 429
        },
        "outputId": "e99e4569-e00d-48a6-c89e-34089a61ba79"
      },
      "outputs": [
        {
          "output_type": "display_data",
          "data": {
            "text/plain": [
              "<Figure size 640x480 with 1 Axes>"
            ],
            "image/png": "[encoded data removed]"
          },
          "metadata": {}
        }
      ],
      "source": [
        "plt.hist([fake_1, fake_2, fake_3], bins=bins)\n",
        "plt.show()"
      ]
    },
    {
      "cell_type": "code",
      "execution_count": 10,
      "metadata": {
        "id": "SPGOS9ex-j7t"
      },
      "outputs": [],
      "source": [
        "#  [-1, 1] 0.01\n",
        "#bins = [float(i) / 100 for i in range(-100, 101)]\n",
        "\n",
        "#  [-0.5, 0.5] 0.05\n",
        "bins = [float(i) / 20 for i in range(-10, 11)]"
      ]
    },
    {
      "cell_type": "code",
      "execution_count": 11,
      "metadata": {
        "id": "mjB5T61HHbSz"
      },
      "outputs": [],
      "source": [
        "# we create a df which counts how many values is in each bin\n",
        "def df_count(list1, list2, list3, bins):\n",
        "  df1 = pd.DataFrame(list1, columns=['original'])\n",
        "  df1['bin'] = pd.cut(df1['original'], bins=bins)\n",
        "  df1 = df1.groupby('bin').count()\n",
        "\n",
        "  df2 = pd.DataFrame(list2, columns=['noise1'])\n",
        "  df2['bin'] = pd.cut(df2['noise1'], bins=bins)\n",
        "  df2 = df2.groupby('bin').count()\n",
        "\n",
        "  df3 = pd.DataFrame(list3, columns=['noise2'])\n",
        "  df3['bin'] = pd.cut(df3['noise2'], bins=bins)\n",
        "  df3 = df3.groupby('bin').count()\n",
        "\n",
        "  df = df1.merge(df2, how='inner', on='bin').merge(df3, how='inner', on='bin')\n",
        "\n",
        "  return df\n"
      ]
    },
    {
      "cell_type": "code",
      "execution_count": 12,
      "metadata": {
        "id": "iAMQ9fF9JN-U"
      },
      "outputs": [],
      "source": [
        "def kl_value(df):\n",
        "  # adding small value to avoid division by 0\n",
        "  df['original'] = df['original'] + 0.00000000001\n",
        "  # creating \"distribution\"\n",
        "  df['original'] = df['original'] / df['original'].sum()\n",
        "\n",
        "  df['noise1'] = df['noise1'] + 0.00000000001\n",
        "  df['noise1'] = df['noise1'] / df['noise1'].sum()\n",
        "\n",
        "  df['noise2'] = df['noise2'] + 0.00000000001\n",
        "  df['noise2'] = df['noise2'] / df['noise2'].sum()\n",
        "\n",
        "  # noise1 and noise2 have very similar distributions\n",
        "  P = torch.FloatTensor(df['original'])\n",
        "  Q = torch.FloatTensor(df['noise1'])\n",
        "  (P * (P / Q).log()).sum()\n",
        "\n",
        "  return (P * (P / Q).log()).sum()"
      ]
    },
    {
      "cell_type": "code",
      "execution_count": 13,
      "metadata": {
        "id": "wQ_z2hN6Lo-E"
      },
      "outputs": [],
      "source": [
        "# here we create a list with KL value for an original picture and a denoised one\n",
        "# we do it for all colors and treat \"each color as a picture\". We can set one color in the first loop\n",
        "\n",
        "KL_div_real_x = []\n",
        "KL_div_real_y = []\n",
        "KL_div_fake_x = []\n",
        "KL_div_fake_y = []\n",
        "\n",
        "\n",
        "for color in range(0, 3):\n",
        "  for photo in range(0, len(grad_real_y_org[0])):\n",
        "    real_1_y = grad_real_y_org[color][photo]\n",
        "    real_2_y = grad_real_y_noise1[color][photo]\n",
        "    real_3_y = grad_real_y_noise2[color][photo]\n",
        "\n",
        "    df_real_y = df_count(real_1_y, real_2_y, real_3_y, bins)\n",
        "\n",
        "    fake_1_y = grad_fake_y_org[color][photo]\n",
        "    fake_2_y = grad_fake_y_noise1[color][photo]\n",
        "    fake_3_y = grad_fake_y_noise2[color][photo]\n",
        "\n",
        "    df_fake_y = df_count(fake_1_y, fake_2_y, fake_3_y, bins)\n",
        "\n",
        "    real_1_x = grad_real_x_org[color][photo]\n",
        "    real_2_x = grad_real_x_noise1[color][photo]\n",
        "    real_3_x = grad_real_x_noise2[color][photo]\n",
        "\n",
        "    df_real_x = df_count(real_1_x, real_2_x, real_3_x, bins)\n",
        "\n",
        "    fake_1_x = grad_fake_x_org[color][photo]\n",
        "    fake_2_x = grad_fake_x_noise1[color][photo]\n",
        "    fake_3_x = grad_fake_x_noise2[color][photo]\n",
        "\n",
        "    df_fake_x = df_count(fake_1_x, fake_2_x, fake_3_x, bins)\n",
        "\n",
        "    KL_div_real_x.append(kl_value(df_real_x))\n",
        "    KL_div_real_y.append(kl_value(df_real_y))\n",
        "    KL_div_fake_x.append(kl_value(df_fake_x))\n",
        "    KL_div_fake_y.append(kl_value(df_fake_y))\n"
      ]
    },
    {
      "cell_type": "code",
      "execution_count": 14,
      "metadata": {
        "id": "Xe0f95V-QIb8",
        "colab": {
          "base_uri": "https://localhost:8080/",
          "height": 429
        },
        "outputId": "7f74c98b-cead-4e5c-f172-2aac84564167"
      },
      "outputs": [
        {
          "output_type": "display_data",
          "data": {
            "text/plain": [
              "<Figure size 640x480 with 1 Axes>"
            ],
            "image/png": "[encoded data removed]"
          },
          "metadata": {}
        }
      ],
      "source": [
        "#noise1\n",
        "plt.hist(KL_div_fake_x)\n",
        "plt.show()"
      ]
    },
    {
      "cell_type": "code",
      "execution_count": 15,
      "metadata": {
        "id": "KO_UB3msM-Qe",
        "colab": {
          "base_uri": "https://localhost:8080/",
          "height": 429
        },
        "outputId": "84ac7a28-dcde-4709-f4d1-568e1744b020"
      },
      "outputs": [
        {
          "output_type": "display_data",
          "data": {
            "text/plain": [
              "<Figure size 640x480 with 1 Axes>"
            ],
            "image/png": "[encoded data removed]"
          },
          "metadata": {}
        }
      ],
      "source": [
        "#noise1\n",
        "plt.hist(KL_div_real_x)\n",
        "plt.show()"
      ]
    },
    {
      "cell_type": "code",
      "execution_count": 16,
      "metadata": {
        "id": "a8W1rbAimTqi"
      },
      "outputs": [],
      "source": [
        "def compare(lst1, lst2):\n",
        "  print(f'min_1: {min(lst1)}, min_2: {min(lst2)}')\n",
        "  print(f'max_1: {max(lst1)}, max_2: {max(lst2)}')\n",
        "  print(f'mean_1: {sum(lst1)/len(lst1)}, mean_2: {sum(lst2)/len(lst2)}')\n",
        "  print(f'median_1: {statistics.median(lst1)}, median_2: {statistics.median(lst2)}')"
      ]
    },
    {
      "cell_type": "code",
      "execution_count": 17,
      "metadata": {
        "id": "_CAUlAheLpRn",
        "colab": {
          "base_uri": "https://localhost:8080/"
        },
        "outputId": "57d518b6-4fff-4c8a-b156-97b8b53b2459"
      },
      "outputs": [
        {
          "output_type": "stream",
          "name": "stdout",
          "text": [
            "min_1: 0.03920416161417961, min_2: 0.04092526063323021\n",
            "max_1: 0.10776069760322571, max_2: 0.09435316920280457\n",
            "mean_1: 0.06587214767932892, mean_2: 0.06915097683668137\n",
            "median_1: 0.061510443687438965, median_2: 0.0711568146944046\n"
          ]
        }
      ],
      "source": [
        "compare(KL_div_real_x, KL_div_fake_x)"
      ]
    },
    {
      "cell_type": "code",
      "execution_count": null,
      "metadata": {
        "id": "JfdXbnm21NHg"
      },
      "outputs": [],
      "source": []
    },
    {
      "cell_type": "code",
      "execution_count": null,
      "metadata": {
        "id": "dM_9bW5G1NC7"
      },
      "outputs": [],
      "source": []
    },
    {
      "cell_type": "code",
      "execution_count": null,
      "metadata": {
        "id": "w0rB84NG1NAV"
      },
      "outputs": [],
      "source": []
    }
  ],
  "metadata": {
    "colab": {
      "provenance": []
    },
    "kernelspec": {
      "display_name": "Python 3",
      "name": "python3"
    },
    "language_info": {
      "name": "python"
    }
  },
  "nbformat": 4,
  "nbformat_minor": 0
}